{
  "nbformat": 4,
  "nbformat_minor": 0,
  "metadata": {
    "colab": {
      "name": "Lab_VI.ipynb",
      "provenance": [],
      "collapsed_sections": []
    },
    "kernelspec": {
      "name": "python3",
      "display_name": "Python 3"
    },
    "language_info": {
      "name": "python"
    },
    "widgets": {
      "application/vnd.jupyter.widget-state+json": {
        "90eaf222e8f44c9497c88d9ba320758a": {
          "model_module": "@jupyter-widgets/controls",
          "model_name": "HBoxModel",
          "state": {
            "_view_name": "HBoxView",
            "_dom_classes": [],
            "_model_name": "HBoxModel",
            "_view_module": "@jupyter-widgets/controls",
            "_model_module_version": "1.5.0",
            "_view_count": null,
            "_view_module_version": "1.5.0",
            "box_style": "",
            "layout": "IPY_MODEL_a8be862639fb45189b30e5179934b731",
            "_model_module": "@jupyter-widgets/controls",
            "children": [
              "IPY_MODEL_a3ead937ca984368864ef9f0622fa672",
              "IPY_MODEL_7fe05d1349d245cca1edec809a11e9a5"
            ]
          }
        },
        "a8be862639fb45189b30e5179934b731": {
          "model_module": "@jupyter-widgets/base",
          "model_name": "LayoutModel",
          "state": {
            "_view_name": "LayoutView",
            "grid_template_rows": null,
            "right": null,
            "justify_content": null,
            "_view_module": "@jupyter-widgets/base",
            "overflow": null,
            "_model_module_version": "1.2.0",
            "_view_count": null,
            "flex_flow": null,
            "width": null,
            "min_width": null,
            "border": null,
            "align_items": null,
            "bottom": null,
            "_model_module": "@jupyter-widgets/base",
            "top": null,
            "grid_column": null,
            "overflow_y": null,
            "overflow_x": null,
            "grid_auto_flow": null,
            "grid_area": null,
            "grid_template_columns": null,
            "flex": null,
            "_model_name": "LayoutModel",
            "justify_items": null,
            "grid_row": null,
            "max_height": null,
            "align_content": null,
            "visibility": null,
            "align_self": null,
            "height": null,
            "min_height": null,
            "padding": null,
            "grid_auto_rows": null,
            "grid_gap": null,
            "max_width": null,
            "order": null,
            "_view_module_version": "1.2.0",
            "grid_template_areas": null,
            "object_position": null,
            "object_fit": null,
            "grid_auto_columns": null,
            "margin": null,
            "display": null,
            "left": null
          }
        },
        "a3ead937ca984368864ef9f0622fa672": {
          "model_module": "@jupyter-widgets/controls",
          "model_name": "FloatProgressModel",
          "state": {
            "_view_name": "ProgressView",
            "style": "IPY_MODEL_4c6d39bda1404d409b799cfa0facff47",
            "_dom_classes": [],
            "description": "100%",
            "_model_name": "FloatProgressModel",
            "bar_style": "success",
            "max": 3,
            "_view_module": "@jupyter-widgets/controls",
            "_model_module_version": "1.5.0",
            "value": 3,
            "_view_count": null,
            "_view_module_version": "1.5.0",
            "orientation": "horizontal",
            "min": 0,
            "description_tooltip": null,
            "_model_module": "@jupyter-widgets/controls",
            "layout": "IPY_MODEL_2cda02aee59b492e9c0b3a81a150f00f"
          }
        },
        "7fe05d1349d245cca1edec809a11e9a5": {
          "model_module": "@jupyter-widgets/controls",
          "model_name": "HTMLModel",
          "state": {
            "_view_name": "HTMLView",
            "style": "IPY_MODEL_68ad3673770f49128aa8a935cb68a695",
            "_dom_classes": [],
            "description": "",
            "_model_name": "HTMLModel",
            "placeholder": "​",
            "_view_module": "@jupyter-widgets/controls",
            "_model_module_version": "1.5.0",
            "value": " 3/3 [00:01&lt;00:00,  2.86KB/s]",
            "_view_count": null,
            "_view_module_version": "1.5.0",
            "description_tooltip": null,
            "_model_module": "@jupyter-widgets/controls",
            "layout": "IPY_MODEL_c983564f2b7c4497a0bf3e3f05f9b8c4"
          }
        },
        "4c6d39bda1404d409b799cfa0facff47": {
          "model_module": "@jupyter-widgets/controls",
          "model_name": "ProgressStyleModel",
          "state": {
            "_view_name": "StyleView",
            "_model_name": "ProgressStyleModel",
            "description_width": "initial",
            "_view_module": "@jupyter-widgets/base",
            "_model_module_version": "1.5.0",
            "_view_count": null,
            "_view_module_version": "1.2.0",
            "bar_color": null,
            "_model_module": "@jupyter-widgets/controls"
          }
        },
        "2cda02aee59b492e9c0b3a81a150f00f": {
          "model_module": "@jupyter-widgets/base",
          "model_name": "LayoutModel",
          "state": {
            "_view_name": "LayoutView",
            "grid_template_rows": null,
            "right": null,
            "justify_content": null,
            "_view_module": "@jupyter-widgets/base",
            "overflow": null,
            "_model_module_version": "1.2.0",
            "_view_count": null,
            "flex_flow": null,
            "width": null,
            "min_width": null,
            "border": null,
            "align_items": null,
            "bottom": null,
            "_model_module": "@jupyter-widgets/base",
            "top": null,
            "grid_column": null,
            "overflow_y": null,
            "overflow_x": null,
            "grid_auto_flow": null,
            "grid_area": null,
            "grid_template_columns": null,
            "flex": null,
            "_model_name": "LayoutModel",
            "justify_items": null,
            "grid_row": null,
            "max_height": null,
            "align_content": null,
            "visibility": null,
            "align_self": null,
            "height": null,
            "min_height": null,
            "padding": null,
            "grid_auto_rows": null,
            "grid_gap": null,
            "max_width": null,
            "order": null,
            "_view_module_version": "1.2.0",
            "grid_template_areas": null,
            "object_position": null,
            "object_fit": null,
            "grid_auto_columns": null,
            "margin": null,
            "display": null,
            "left": null
          }
        },
        "68ad3673770f49128aa8a935cb68a695": {
          "model_module": "@jupyter-widgets/controls",
          "model_name": "DescriptionStyleModel",
          "state": {
            "_view_name": "StyleView",
            "_model_name": "DescriptionStyleModel",
            "description_width": "",
            "_view_module": "@jupyter-widgets/base",
            "_model_module_version": "1.5.0",
            "_view_count": null,
            "_view_module_version": "1.2.0",
            "_model_module": "@jupyter-widgets/controls"
          }
        },
        "c983564f2b7c4497a0bf3e3f05f9b8c4": {
          "model_module": "@jupyter-widgets/base",
          "model_name": "LayoutModel",
          "state": {
            "_view_name": "LayoutView",
            "grid_template_rows": null,
            "right": null,
            "justify_content": null,
            "_view_module": "@jupyter-widgets/base",
            "overflow": null,
            "_model_module_version": "1.2.0",
            "_view_count": null,
            "flex_flow": null,
            "width": null,
            "min_width": null,
            "border": null,
            "align_items": null,
            "bottom": null,
            "_model_module": "@jupyter-widgets/base",
            "top": null,
            "grid_column": null,
            "overflow_y": null,
            "overflow_x": null,
            "grid_auto_flow": null,
            "grid_area": null,
            "grid_template_columns": null,
            "flex": null,
            "_model_name": "LayoutModel",
            "justify_items": null,
            "grid_row": null,
            "max_height": null,
            "align_content": null,
            "visibility": null,
            "align_self": null,
            "height": null,
            "min_height": null,
            "padding": null,
            "grid_auto_rows": null,
            "grid_gap": null,
            "max_width": null,
            "order": null,
            "_view_module_version": "1.2.0",
            "grid_template_areas": null,
            "object_position": null,
            "object_fit": null,
            "grid_auto_columns": null,
            "margin": null,
            "display": null,
            "left": null
          }
        },
        "fa3b4abdd25f459db6b0f404727a5057": {
          "model_module": "@jupyter-widgets/controls",
          "model_name": "HBoxModel",
          "state": {
            "_view_name": "HBoxView",
            "_dom_classes": [],
            "_model_name": "HBoxModel",
            "_view_module": "@jupyter-widgets/controls",
            "_model_module_version": "1.5.0",
            "_view_count": null,
            "_view_module_version": "1.5.0",
            "box_style": "",
            "layout": "IPY_MODEL_d7b663ff0de344028c610c5af6775b52",
            "_model_module": "@jupyter-widgets/controls",
            "children": [
              "IPY_MODEL_1b0337222ae64bc7a5a75b6ed2ce766f",
              "IPY_MODEL_e8fcaacd006c45ba9f915ffa2313a013"
            ]
          }
        },
        "d7b663ff0de344028c610c5af6775b52": {
          "model_module": "@jupyter-widgets/base",
          "model_name": "LayoutModel",
          "state": {
            "_view_name": "LayoutView",
            "grid_template_rows": null,
            "right": null,
            "justify_content": null,
            "_view_module": "@jupyter-widgets/base",
            "overflow": null,
            "_model_module_version": "1.2.0",
            "_view_count": null,
            "flex_flow": null,
            "width": null,
            "min_width": null,
            "border": null,
            "align_items": null,
            "bottom": null,
            "_model_module": "@jupyter-widgets/base",
            "top": null,
            "grid_column": null,
            "overflow_y": null,
            "overflow_x": null,
            "grid_auto_flow": null,
            "grid_area": null,
            "grid_template_columns": null,
            "flex": null,
            "_model_name": "LayoutModel",
            "justify_items": null,
            "grid_row": null,
            "max_height": null,
            "align_content": null,
            "visibility": null,
            "align_self": null,
            "height": null,
            "min_height": null,
            "padding": null,
            "grid_auto_rows": null,
            "grid_gap": null,
            "max_width": null,
            "order": null,
            "_view_module_version": "1.2.0",
            "grid_template_areas": null,
            "object_position": null,
            "object_fit": null,
            "grid_auto_columns": null,
            "margin": null,
            "display": null,
            "left": null
          }
        },
        "1b0337222ae64bc7a5a75b6ed2ce766f": {
          "model_module": "@jupyter-widgets/controls",
          "model_name": "FloatProgressModel",
          "state": {
            "_view_name": "ProgressView",
            "style": "IPY_MODEL_55c68759db664841ae3c159267b3c3ec",
            "_dom_classes": [],
            "description": "100%",
            "_model_name": "FloatProgressModel",
            "bar_style": "success",
            "max": 35718,
            "_view_module": "@jupyter-widgets/controls",
            "_model_module_version": "1.5.0",
            "value": 35718,
            "_view_count": null,
            "_view_module_version": "1.5.0",
            "orientation": "horizontal",
            "min": 0,
            "description_tooltip": null,
            "_model_module": "@jupyter-widgets/controls",
            "layout": "IPY_MODEL_dfb4acf25e9f4317b60e16bf6de93aaa"
          }
        },
        "e8fcaacd006c45ba9f915ffa2313a013": {
          "model_module": "@jupyter-widgets/controls",
          "model_name": "HTMLModel",
          "state": {
            "_view_name": "HTMLView",
            "style": "IPY_MODEL_0cbdfdb1e5444aa4af9c2fa82a4370e3",
            "_dom_classes": [],
            "description": "",
            "_model_name": "HTMLModel",
            "placeholder": "​",
            "_view_module": "@jupyter-widgets/controls",
            "_model_module_version": "1.5.0",
            "value": " 35718/35718 [00:00&lt;00:00, 81324.89KB/s]",
            "_view_count": null,
            "_view_module_version": "1.5.0",
            "description_tooltip": null,
            "_model_module": "@jupyter-widgets/controls",
            "layout": "IPY_MODEL_2d891fcd787f42478a7cf3f92baf8953"
          }
        },
        "55c68759db664841ae3c159267b3c3ec": {
          "model_module": "@jupyter-widgets/controls",
          "model_name": "ProgressStyleModel",
          "state": {
            "_view_name": "StyleView",
            "_model_name": "ProgressStyleModel",
            "description_width": "initial",
            "_view_module": "@jupyter-widgets/base",
            "_model_module_version": "1.5.0",
            "_view_count": null,
            "_view_module_version": "1.2.0",
            "bar_color": null,
            "_model_module": "@jupyter-widgets/controls"
          }
        },
        "dfb4acf25e9f4317b60e16bf6de93aaa": {
          "model_module": "@jupyter-widgets/base",
          "model_name": "LayoutModel",
          "state": {
            "_view_name": "LayoutView",
            "grid_template_rows": null,
            "right": null,
            "justify_content": null,
            "_view_module": "@jupyter-widgets/base",
            "overflow": null,
            "_model_module_version": "1.2.0",
            "_view_count": null,
            "flex_flow": null,
            "width": null,
            "min_width": null,
            "border": null,
            "align_items": null,
            "bottom": null,
            "_model_module": "@jupyter-widgets/base",
            "top": null,
            "grid_column": null,
            "overflow_y": null,
            "overflow_x": null,
            "grid_auto_flow": null,
            "grid_area": null,
            "grid_template_columns": null,
            "flex": null,
            "_model_name": "LayoutModel",
            "justify_items": null,
            "grid_row": null,
            "max_height": null,
            "align_content": null,
            "visibility": null,
            "align_self": null,
            "height": null,
            "min_height": null,
            "padding": null,
            "grid_auto_rows": null,
            "grid_gap": null,
            "max_width": null,
            "order": null,
            "_view_module_version": "1.2.0",
            "grid_template_areas": null,
            "object_position": null,
            "object_fit": null,
            "grid_auto_columns": null,
            "margin": null,
            "display": null,
            "left": null
          }
        },
        "0cbdfdb1e5444aa4af9c2fa82a4370e3": {
          "model_module": "@jupyter-widgets/controls",
          "model_name": "DescriptionStyleModel",
          "state": {
            "_view_name": "StyleView",
            "_model_name": "DescriptionStyleModel",
            "description_width": "",
            "_view_module": "@jupyter-widgets/base",
            "_model_module_version": "1.5.0",
            "_view_count": null,
            "_view_module_version": "1.2.0",
            "_model_module": "@jupyter-widgets/controls"
          }
        },
        "2d891fcd787f42478a7cf3f92baf8953": {
          "model_module": "@jupyter-widgets/base",
          "model_name": "LayoutModel",
          "state": {
            "_view_name": "LayoutView",
            "grid_template_rows": null,
            "right": null,
            "justify_content": null,
            "_view_module": "@jupyter-widgets/base",
            "overflow": null,
            "_model_module_version": "1.2.0",
            "_view_count": null,
            "flex_flow": null,
            "width": null,
            "min_width": null,
            "border": null,
            "align_items": null,
            "bottom": null,
            "_model_module": "@jupyter-widgets/base",
            "top": null,
            "grid_column": null,
            "overflow_y": null,
            "overflow_x": null,
            "grid_auto_flow": null,
            "grid_area": null,
            "grid_template_columns": null,
            "flex": null,
            "_model_name": "LayoutModel",
            "justify_items": null,
            "grid_row": null,
            "max_height": null,
            "align_content": null,
            "visibility": null,
            "align_self": null,
            "height": null,
            "min_height": null,
            "padding": null,
            "grid_auto_rows": null,
            "grid_gap": null,
            "max_width": null,
            "order": null,
            "_view_module_version": "1.2.0",
            "grid_template_areas": null,
            "object_position": null,
            "object_fit": null,
            "grid_auto_columns": null,
            "margin": null,
            "display": null,
            "left": null
          }
        },
        "2ad528bfcdd2404996e15cd1e654337b": {
          "model_module": "@jupyter-widgets/controls",
          "model_name": "HBoxModel",
          "state": {
            "_view_name": "HBoxView",
            "_dom_classes": [],
            "_model_name": "HBoxModel",
            "_view_module": "@jupyter-widgets/controls",
            "_model_module_version": "1.5.0",
            "_view_count": null,
            "_view_module_version": "1.5.0",
            "box_style": "",
            "layout": "IPY_MODEL_3a309517de53459085db50ca366bb0e4",
            "_model_module": "@jupyter-widgets/controls",
            "children": [
              "IPY_MODEL_5a4655d76a4f4258a7cc78da18369bba",
              "IPY_MODEL_43248fb67ebc43bfb062765a26e3865c"
            ]
          }
        },
        "3a309517de53459085db50ca366bb0e4": {
          "model_module": "@jupyter-widgets/base",
          "model_name": "LayoutModel",
          "state": {
            "_view_name": "LayoutView",
            "grid_template_rows": null,
            "right": null,
            "justify_content": null,
            "_view_module": "@jupyter-widgets/base",
            "overflow": null,
            "_model_module_version": "1.2.0",
            "_view_count": null,
            "flex_flow": null,
            "width": null,
            "min_width": null,
            "border": null,
            "align_items": null,
            "bottom": null,
            "_model_module": "@jupyter-widgets/base",
            "top": null,
            "grid_column": null,
            "overflow_y": null,
            "overflow_x": null,
            "grid_auto_flow": null,
            "grid_area": null,
            "grid_template_columns": null,
            "flex": null,
            "_model_name": "LayoutModel",
            "justify_items": null,
            "grid_row": null,
            "max_height": null,
            "align_content": null,
            "visibility": null,
            "align_self": null,
            "height": null,
            "min_height": null,
            "padding": null,
            "grid_auto_rows": null,
            "grid_gap": null,
            "max_width": null,
            "order": null,
            "_view_module_version": "1.2.0",
            "grid_template_areas": null,
            "object_position": null,
            "object_fit": null,
            "grid_auto_columns": null,
            "margin": null,
            "display": null,
            "left": null
          }
        },
        "5a4655d76a4f4258a7cc78da18369bba": {
          "model_module": "@jupyter-widgets/controls",
          "model_name": "FloatProgressModel",
          "state": {
            "_view_name": "ProgressView",
            "style": "IPY_MODEL_e1383645cb374fdbab94b85ae9676d81",
            "_dom_classes": [],
            "description": "Extracting File: 100%",
            "_model_name": "FloatProgressModel",
            "bar_style": "success",
            "max": 6404,
            "_view_module": "@jupyter-widgets/controls",
            "_model_module_version": "1.5.0",
            "value": 6404,
            "_view_count": null,
            "_view_module_version": "1.5.0",
            "orientation": "horizontal",
            "min": 0,
            "description_tooltip": null,
            "_model_module": "@jupyter-widgets/controls",
            "layout": "IPY_MODEL_19da9469e0244e98a7e66a3cf9796bcc"
          }
        },
        "43248fb67ebc43bfb062765a26e3865c": {
          "model_module": "@jupyter-widgets/controls",
          "model_name": "HTMLModel",
          "state": {
            "_view_name": "HTMLView",
            "style": "IPY_MODEL_88c0d4bdddea4644b8134d4e044e9989",
            "_dom_classes": [],
            "description": "",
            "_model_name": "HTMLModel",
            "placeholder": "​",
            "_view_module": "@jupyter-widgets/controls",
            "_model_module_version": "1.5.0",
            "value": " 6404/6404 [00:01&lt;00:00, 4890.64it/s]",
            "_view_count": null,
            "_view_module_version": "1.5.0",
            "description_tooltip": null,
            "_model_module": "@jupyter-widgets/controls",
            "layout": "IPY_MODEL_009f90886e774478b346c4390059d252"
          }
        },
        "e1383645cb374fdbab94b85ae9676d81": {
          "model_module": "@jupyter-widgets/controls",
          "model_name": "ProgressStyleModel",
          "state": {
            "_view_name": "StyleView",
            "_model_name": "ProgressStyleModel",
            "description_width": "initial",
            "_view_module": "@jupyter-widgets/base",
            "_model_module_version": "1.5.0",
            "_view_count": null,
            "_view_module_version": "1.2.0",
            "bar_color": null,
            "_model_module": "@jupyter-widgets/controls"
          }
        },
        "19da9469e0244e98a7e66a3cf9796bcc": {
          "model_module": "@jupyter-widgets/base",
          "model_name": "LayoutModel",
          "state": {
            "_view_name": "LayoutView",
            "grid_template_rows": null,
            "right": null,
            "justify_content": null,
            "_view_module": "@jupyter-widgets/base",
            "overflow": null,
            "_model_module_version": "1.2.0",
            "_view_count": null,
            "flex_flow": null,
            "width": null,
            "min_width": null,
            "border": null,
            "align_items": null,
            "bottom": null,
            "_model_module": "@jupyter-widgets/base",
            "top": null,
            "grid_column": null,
            "overflow_y": null,
            "overflow_x": null,
            "grid_auto_flow": null,
            "grid_area": null,
            "grid_template_columns": null,
            "flex": null,
            "_model_name": "LayoutModel",
            "justify_items": null,
            "grid_row": null,
            "max_height": null,
            "align_content": null,
            "visibility": null,
            "align_self": null,
            "height": null,
            "min_height": null,
            "padding": null,
            "grid_auto_rows": null,
            "grid_gap": null,
            "max_width": null,
            "order": null,
            "_view_module_version": "1.2.0",
            "grid_template_areas": null,
            "object_position": null,
            "object_fit": null,
            "grid_auto_columns": null,
            "margin": null,
            "display": null,
            "left": null
          }
        },
        "88c0d4bdddea4644b8134d4e044e9989": {
          "model_module": "@jupyter-widgets/controls",
          "model_name": "DescriptionStyleModel",
          "state": {
            "_view_name": "StyleView",
            "_model_name": "DescriptionStyleModel",
            "description_width": "",
            "_view_module": "@jupyter-widgets/base",
            "_model_module_version": "1.5.0",
            "_view_count": null,
            "_view_module_version": "1.2.0",
            "_model_module": "@jupyter-widgets/controls"
          }
        },
        "009f90886e774478b346c4390059d252": {
          "model_module": "@jupyter-widgets/base",
          "model_name": "LayoutModel",
          "state": {
            "_view_name": "LayoutView",
            "grid_template_rows": null,
            "right": null,
            "justify_content": null,
            "_view_module": "@jupyter-widgets/base",
            "overflow": null,
            "_model_module_version": "1.2.0",
            "_view_count": null,
            "flex_flow": null,
            "width": null,
            "min_width": null,
            "border": null,
            "align_items": null,
            "bottom": null,
            "_model_module": "@jupyter-widgets/base",
            "top": null,
            "grid_column": null,
            "overflow_y": null,
            "overflow_x": null,
            "grid_auto_flow": null,
            "grid_area": null,
            "grid_template_columns": null,
            "flex": null,
            "_model_name": "LayoutModel",
            "justify_items": null,
            "grid_row": null,
            "max_height": null,
            "align_content": null,
            "visibility": null,
            "align_self": null,
            "height": null,
            "min_height": null,
            "padding": null,
            "grid_auto_rows": null,
            "grid_gap": null,
            "max_width": null,
            "order": null,
            "_view_module_version": "1.2.0",
            "grid_template_areas": null,
            "object_position": null,
            "object_fit": null,
            "grid_auto_columns": null,
            "margin": null,
            "display": null,
            "left": null
          }
        }
      }
    },
    "accelerator": "GPU"
  },
  "cells": [
    {
      "cell_type": "markdown",
      "metadata": {
        "id": "Am-RDPcDjtJz"
      },
      "source": [
        "![image](https://docs.google.com/uc?export=download&id=1Nh6vjig-ADM1RMbaHrj_GItD3O1ZW4Vr)\n",
        "\n",
        "<table align=\"center\">\n",
        "  <td>\n",
        "    <a href=\"https://colab.research.google.com/github/jpcano1/MINE_4206_Analisis_con_Machine_Learning/blob/main/Lab%20VI/Lab_VI.ipynb\" target=\"_blank\"><img src=\"https://colab.research.google.com/assets/colab-badge.svg\" alt=\"Open In Colab\"/>\n",
        "  </td>\n",
        "</table>\n",
        "\n",
        "# **Taller No. 6**\n",
        "## **Visión por Computador y Perceptrón Multicapa**\n",
        "\n",
        "## **Objetivos**\n",
        "- Introducción a la extracción de características en imágenes\n",
        "- Entrenamiento con perceptrón multicapa.\n",
        "- Tuneo de hiperparámetros en redes neuronales.\n",
        "\n",
        "## **Nombres de los Integrantes**\n",
        "- **Integrante 1:**\n",
        "- **Integrante 2:**\n",
        "- **Integrante 3:**\n",
        "\n",
        "## **Problema 1**\n",
        "- El alzheimer es una enfermedad degenerativa que afecta a la población adulta en grandes proporciones a nivel mundial. A raíz de lo anterior, en un hospital se busca construir una herramienta que clasifique etapas del alzheimer con base en cortes de resonancia magnética tomadas de diferentes pacientes con el objetivo de diagnosticar lo más temprano posible y pensar en posibles tratamientos.\n",
        "\n"
      ]
    },
    {
      "cell_type": "code",
      "metadata": {
        "colab": {
          "base_uri": "https://localhost:8080/",
          "height": 104,
          "referenced_widgets": [
            "90eaf222e8f44c9497c88d9ba320758a",
            "a8be862639fb45189b30e5179934b731",
            "a3ead937ca984368864ef9f0622fa672",
            "7fe05d1349d245cca1edec809a11e9a5",
            "4c6d39bda1404d409b799cfa0facff47",
            "2cda02aee59b492e9c0b3a81a150f00f",
            "68ad3673770f49128aa8a935cb68a695",
            "c983564f2b7c4497a0bf3e3f05f9b8c4"
          ]
        },
        "id": "somGW0zX0KPD",
        "outputId": "ba17319e-49ba-49bf-a5e5-04e81acfefdd"
      },
      "source": [
        "!shred -u setup_colab_general.py\n",
        "!wget -q \"https://github.com/jpcano1/python_utils/raw/main/setup_colab_general.py\" -O setup_colab_general.py\n",
        "import setup_colab_general as setup_general\n",
        "setup_general.setup_general()"
      ],
      "execution_count": null,
      "outputs": [
        {
          "output_type": "stream",
          "text": [
            "shred: setup_colab_general.py: failed to open for writing: No such file or directory\n"
          ],
          "name": "stdout"
        },
        {
          "output_type": "display_data",
          "data": {
            "application/vnd.jupyter.widget-view+json": {
              "model_id": "90eaf222e8f44c9497c88d9ba320758a",
              "version_minor": 0,
              "version_major": 2
            },
            "text/plain": [
              "HBox(children=(FloatProgress(value=0.0, max=3.0), HTML(value='')))"
            ]
          },
          "metadata": {
            "tags": []
          }
        },
        {
          "output_type": "stream",
          "text": [
            "\n",
            "General Functions Enabled Successfully\n"
          ],
          "name": "stdout"
        }
      ]
    },
    {
      "cell_type": "markdown",
      "metadata": {
        "id": "fNZikgMckugN"
      },
      "source": [
        "## **Importando las librerías necesarias para el laboratorio**"
      ]
    },
    {
      "cell_type": "code",
      "metadata": {
        "id": "pOuWRBUs1bex"
      },
      "source": [
        "import numpy as np\n",
        "import pandas as pd\n",
        "\n",
        "import os\n",
        "\n",
        "import matplotlib.pyplot as plt\n",
        "plt.style.use(\"seaborn-deep\")\n",
        "import seaborn as sns\n",
        "\n",
        "import utils.general as gen\n",
        "\n",
        "from skimage import io, color, exposure, feature\n",
        "\n",
        "from sklearn.model_selection import RandomizedSearchCV, train_test_split\n",
        "from sklearn.metrics import (confusion_matrix, precision_score, accuracy_score,\n",
        "                             recall_score, classification_report)\n",
        "\n",
        "from tensorflow import keras\n",
        "import tensorflow as tf\n",
        "from tensorflow.keras.wrappers.scikit_learn import KerasClassifier\n",
        "from tqdm.auto import tqdm"
      ],
      "execution_count": null,
      "outputs": []
    },
    {
      "cell_type": "code",
      "metadata": {
        "id": "DegMGUj0MGlE"
      },
      "source": [
        "data_id = \"10pDfpxFAXkBGD29CfZQ7RaoIFMyyKpAI\""
      ],
      "execution_count": null,
      "outputs": []
    },
    {
      "cell_type": "code",
      "metadata": {
        "colab": {
          "base_uri": "https://localhost:8080/",
          "height": 135,
          "referenced_widgets": [
            "fa3b4abdd25f459db6b0f404727a5057",
            "d7b663ff0de344028c610c5af6775b52",
            "1b0337222ae64bc7a5a75b6ed2ce766f",
            "e8fcaacd006c45ba9f915ffa2313a013",
            "55c68759db664841ae3c159267b3c3ec",
            "dfb4acf25e9f4317b60e16bf6de93aaa",
            "0cbdfdb1e5444aa4af9c2fa82a4370e3",
            "2d891fcd787f42478a7cf3f92baf8953",
            "2ad528bfcdd2404996e15cd1e654337b",
            "3a309517de53459085db50ca366bb0e4",
            "5a4655d76a4f4258a7cc78da18369bba",
            "43248fb67ebc43bfb062765a26e3865c",
            "e1383645cb374fdbab94b85ae9676d81",
            "19da9469e0244e98a7e66a3cf9796bcc",
            "88c0d4bdddea4644b8134d4e044e9989",
            "009f90886e774478b346c4390059d252"
          ]
        },
        "id": "mPIYiO2f1m49",
        "outputId": "bf7eea8a-c1ae-474a-b54a-c92889fbe872"
      },
      "source": [
        "gen.download_file_from_google_drive(data_id, \"alzheimer.zip\", size=35718)"
      ],
      "execution_count": null,
      "outputs": [
        {
          "output_type": "display_data",
          "data": {
            "application/vnd.jupyter.widget-view+json": {
              "model_id": "fa3b4abdd25f459db6b0f404727a5057",
              "version_minor": 0,
              "version_major": 2
            },
            "text/plain": [
              "HBox(children=(FloatProgress(value=0.0, max=35718.0), HTML(value='')))"
            ]
          },
          "metadata": {
            "tags": []
          }
        },
        {
          "output_type": "stream",
          "text": [
            "\n"
          ],
          "name": "stdout"
        },
        {
          "output_type": "display_data",
          "data": {
            "application/vnd.jupyter.widget-view+json": {
              "model_id": "2ad528bfcdd2404996e15cd1e654337b",
              "version_minor": 0,
              "version_major": 2
            },
            "text/plain": [
              "HBox(children=(FloatProgress(value=0.0, max=6404.0), HTML(value='')))"
            ]
          },
          "metadata": {
            "tags": []
          }
        },
        {
          "output_type": "stream",
          "text": [
            "\n",
            "Deleting File...\n"
          ],
          "name": "stdout"
        }
      ]
    },
    {
      "cell_type": "code",
      "metadata": {
        "id": "D6kkg_L11rX7"
      },
      "source": [
        "data_dir = gen.create_and_verify(\n",
        "    \"data\", list_=True\n",
        ")"
      ],
      "execution_count": null,
      "outputs": []
    },
    {
      "cell_type": "code",
      "metadata": {
        "colab": {
          "base_uri": "https://localhost:8080/"
        },
        "id": "oYRmrgUPeeWw",
        "outputId": "5dbc0c71-cc63-4349-cac2-5eb210404dd3"
      },
      "source": [
        "data_dir"
      ],
      "execution_count": null,
      "outputs": [
        {
          "output_type": "execute_result",
          "data": {
            "text/plain": [
              "array(['data/MildDemented', 'data/ModerateDemented', 'data/NonDemented',\n",
              "       'data/VeryMildDemented'], dtype='<U21')"
            ]
          },
          "metadata": {
            "tags": []
          },
          "execution_count": 6
        }
      ]
    },
    {
      "cell_type": "code",
      "metadata": {
        "id": "QtApEDadeNgB"
      },
      "source": [
        "data_counts = {\n",
        "    \"Label\": [\n",
        "        \"Mild Demented\",\n",
        "        \"Moderate Demented\",\n",
        "        \"Non Demented\",\n",
        "        \"Very Mild Demented\"\n",
        "    ],\n",
        "    \"Counts\": [\n",
        "        len(gen.read_listdir(data_dir[0])),\n",
        "        len(gen.read_listdir(data_dir[1])),\n",
        "        len(gen.read_listdir(data_dir[2])),\n",
        "        len(gen.read_listdir(data_dir[3]))\n",
        "    ]\n",
        "}\n",
        "\n",
        "data_counts = pd.DataFrame(data_counts)"
      ],
      "execution_count": null,
      "outputs": []
    },
    {
      "cell_type": "code",
      "metadata": {
        "colab": {
          "base_uri": "https://localhost:8080/",
          "height": 225
        },
        "id": "pTEWzy09euq9",
        "outputId": "117a0a7b-adab-444c-f6cd-4a5f3d4e805f"
      },
      "source": [
        "plt.figure(figsize=(10, 6))\n",
        "plt.bar(x=data_counts[\"Label\"], height=data_counts[\"Counts\"])\n",
        "plt.show()"
      ],
      "execution_count": null,
      "outputs": [
        {
          "output_type": "error",
          "ename": "NameError",
          "evalue": "ignored",
          "traceback": [
            "\u001b[0;31m---------------------------------------------------------------------------\u001b[0m",
            "\u001b[0;31mNameError\u001b[0m                                 Traceback (most recent call last)",
            "\u001b[0;32m<ipython-input-8-2cbac776b06f>\u001b[0m in \u001b[0;36m<module>\u001b[0;34m()\u001b[0m\n\u001b[1;32m      1\u001b[0m \u001b[0mplt\u001b[0m\u001b[0;34m.\u001b[0m\u001b[0mfigure\u001b[0m\u001b[0;34m(\u001b[0m\u001b[0mfigsize\u001b[0m\u001b[0;34m=\u001b[0m\u001b[0;34m(\u001b[0m\u001b[0;36m10\u001b[0m\u001b[0;34m,\u001b[0m \u001b[0;36m6\u001b[0m\u001b[0;34m)\u001b[0m\u001b[0;34m)\u001b[0m\u001b[0;34m\u001b[0m\u001b[0;34m\u001b[0m\u001b[0m\n\u001b[0;32m----> 2\u001b[0;31m \u001b[0mplt\u001b[0m\u001b[0;34m.\u001b[0m\u001b[0mbar\u001b[0m\u001b[0;34m(\u001b[0m\u001b[0mx\u001b[0m\u001b[0;34m=\u001b[0m\u001b[0mtrain_set_counts\u001b[0m\u001b[0;34m[\u001b[0m\u001b[0;34m\"Label\"\u001b[0m\u001b[0;34m]\u001b[0m\u001b[0;34m,\u001b[0m \u001b[0mheight\u001b[0m\u001b[0;34m=\u001b[0m\u001b[0mtrain_set_counts\u001b[0m\u001b[0;34m[\u001b[0m\u001b[0;34m\"Counts\"\u001b[0m\u001b[0;34m]\u001b[0m\u001b[0;34m)\u001b[0m\u001b[0;34m\u001b[0m\u001b[0;34m\u001b[0m\u001b[0m\n\u001b[0m\u001b[1;32m      3\u001b[0m \u001b[0mplt\u001b[0m\u001b[0;34m.\u001b[0m\u001b[0mshow\u001b[0m\u001b[0;34m(\u001b[0m\u001b[0;34m)\u001b[0m\u001b[0;34m\u001b[0m\u001b[0;34m\u001b[0m\u001b[0m\n",
            "\u001b[0;31mNameError\u001b[0m: name 'train_set_counts' is not defined"
          ]
        },
        {
          "output_type": "display_data",
          "data": {
            "text/plain": [
              "<Figure size 720x432 with 0 Axes>"
            ]
          },
          "metadata": {
            "tags": []
          }
        }
      ]
    },
    {
      "cell_type": "markdown",
      "metadata": {
        "id": "Y6tDJkrzmmWA"
      },
      "source": [
        "## **Visualización y Análisis**\n",
        "- A primera vista, nos encontramos con un dataset de cortes de Resonancia Magnética en la secuencia de contraste T1, puesto que es la secuencia más utilizada en el análisis de enfermedades degenerativas, como es el caso del Alzheimer.\n",
        "- Los profesionales a cargo de la obtención de datos recomiendan unir las imágenes de \"Mild Demented\" con \"Moderate Demented\" dado el bajo número de cortes."
      ]
    },
    {
      "cell_type": "code",
      "metadata": {
        "id": "89fAWAA6_IFs"
      },
      "source": [
        "data_dirs = []\n",
        "\n",
        "for dir_ in data_dir:\n",
        "    data_dirs.extend(gen.read_listdir(dir_))\n",
        "data_dirs = np.array(data_dirs)"
      ],
      "execution_count": null,
      "outputs": []
    },
    {
      "cell_type": "code",
      "metadata": {
        "id": "ZwYQ_Va0_UkN"
      },
      "source": [
        "data_dirs"
      ],
      "execution_count": null,
      "outputs": []
    },
    {
      "cell_type": "code",
      "metadata": {
        "id": "v5tEIMDgiTZQ"
      },
      "source": [
        "full_train_dirs, test_dirs = train_test_split(data_dirs, test_size=0.2, random_state=1234)\n",
        "train_dirs, val_dirs = train_test_split(full_train_dirs, test_size=0.2, random_state=1234)"
      ],
      "execution_count": null,
      "outputs": []
    },
    {
      "cell_type": "code",
      "metadata": {
        "id": "g2kTvzMm2Y_3"
      },
      "source": [
        "class DataGenerator(keras.utils.Sequence):\n",
        "    def __init__(self, data_dirs, hog=False):\n",
        "        self.data_dirs = data_dirs\n",
        "        self.label_map = {\n",
        "            \"MildDemented\": 0,\n",
        "            \"ModerateDemented\": 0,\n",
        "            \"NonDemented\": 1,\n",
        "            \"VeryMildDemented\": 2\n",
        "        }\n",
        "        self.hog = hog\n",
        "    \n",
        "    def __len__(self):\n",
        "        return len(self.data_dirs)\n",
        "    \n",
        "    def size(self):\n",
        "        return len(self)\n",
        "    \n",
        "    def __getitem__(self, idx):\n",
        "        img_dir = self.data_dirs[idx]\n",
        "        img = color.rgb2gray(io.imread(img_dir))\n",
        "        if self.hog:\n",
        "            img = feature.hog(img, multichannel=False)\n",
        "        label = img_dir.split(os.path.sep)[-2]\n",
        "        label = self.label_map[label]\n",
        "        return img, label"
      ],
      "execution_count": null,
      "outputs": []
    },
    {
      "cell_type": "code",
      "metadata": {
        "id": "obF2vo7E2bvC"
      },
      "source": [
        "train_generator = DataGenerator(train_dirs)\n",
        "val_generator = DataGenerator(val_dirs)"
      ],
      "execution_count": null,
      "outputs": []
    },
    {
      "cell_type": "code",
      "metadata": {
        "id": "gJJES5gPCWax"
      },
      "source": [
        "np.random.seed(1234)\n",
        "random_sample = np.random.choice(range(len(train_generator)), 9)\n",
        "random_sample"
      ],
      "execution_count": null,
      "outputs": []
    },
    {
      "cell_type": "code",
      "metadata": {
        "id": "DBn94SC8Ef7O"
      },
      "source": [
        "imgs = []\n",
        "labels = []\n",
        "\n",
        "for i in random_sample:\n",
        "    img, label = train_generator[i]\n",
        "    imgs.append(img)\n",
        "    labels.append(label)"
      ],
      "execution_count": null,
      "outputs": []
    },
    {
      "cell_type": "code",
      "metadata": {
        "id": "Z3Yl3ZHuE0J-"
      },
      "source": [
        "gen.visualize_subplot(imgs, labels, (3, 3), figsize=(10, 10))"
      ],
      "execution_count": null,
      "outputs": []
    },
    {
      "cell_type": "markdown",
      "metadata": {
        "id": "-rvT7UE7GCve"
      },
      "source": [
        "## **Procesamiento**\n",
        "### **Histograma de Gradientes Orientados**\n",
        "![image](https://docs.google.com/uc?export=download&id=1zC8X95PdsDoUIo0KBZ390ylDAVaj48lw)\n",
        "- El histograma de gradientes orientados es un algoritmo que se basa en la extracción de características morfológicas de una imagen con respecto a los gradientes (razones de cambio) en X e Y que se presenten a lo largo de los objetos presentes en ella.\n",
        "> *Computer Vision: Algorithms and Applications.* R. Szeliski. Springer, 2011.\n",
        "\n",
        "- Con qué objetivo se hace lo anterior? Extraer contornos, siluetas e información de las texturas."
      ]
    },
    {
      "cell_type": "code",
      "metadata": {
        "id": "a3s8Mug0s9j7"
      },
      "source": [
        "feature.hog?"
      ],
      "execution_count": null,
      "outputs": []
    },
    {
      "cell_type": "code",
      "metadata": {
        "id": "IUmJUpz6dY7A"
      },
      "source": [
        "imgs_hog = []\n",
        "for img in imgs:\n",
        "    _, img_hog = feature.hog(img, visualize=True, multichannel=False)\n",
        "    imgs_hog.append(img_hog)"
      ],
      "execution_count": null,
      "outputs": []
    },
    {
      "cell_type": "code",
      "metadata": {
        "id": "RPGWbWyxdo5i"
      },
      "source": [
        "gen.visualize_subplot(imgs_hog, labels, (3, 3), figsize=(10, 10))"
      ],
      "execution_count": null,
      "outputs": []
    },
    {
      "cell_type": "code",
      "metadata": {
        "id": "ZJqttwNvFIDv"
      },
      "source": [
        "train_generator = DataGenerator(train_dirs, hog=True)\n",
        "val_generator = DataGenerator(val_dirs, hog=True)"
      ],
      "execution_count": null,
      "outputs": []
    },
    {
      "cell_type": "code",
      "metadata": {
        "id": "ZhRhI4F4odzx"
      },
      "source": [
        "X_train = []\n",
        "y_train = []\n",
        "\n",
        "for img, label in tqdm(train_generator):\n",
        "    X_train.append(img)\n",
        "    y_train.append(label)\n",
        "\n",
        "X_train = np.array(X_train)\n",
        "y_train = np.array(y_train)"
      ],
      "execution_count": null,
      "outputs": []
    },
    {
      "cell_type": "code",
      "metadata": {
        "id": "S-V28q1ms4uc"
      },
      "source": [
        "X_val = []\n",
        "y_val = []\n",
        "\n",
        "for img, label in tqdm(val_generator):\n",
        "    X_val.append(img)\n",
        "    y_val.append(label)\n",
        "\n",
        "X_val = np.array(X_val)\n",
        "y_val = np.array(y_val)"
      ],
      "execution_count": null,
      "outputs": []
    },
    {
      "cell_type": "code",
      "metadata": {
        "id": "qHPW2NHmtbEC"
      },
      "source": [
        "X_train.shape"
      ],
      "execution_count": null,
      "outputs": []
    },
    {
      "cell_type": "markdown",
      "metadata": {
        "id": "OTuNHqvcnPoH"
      },
      "source": [
        "## **Modelado**\n",
        "- Dado que ya tenemos un primer procesamiento, ahora vamos a modelar con un perceptrón multicapa."
      ]
    },
    {
      "cell_type": "code",
      "metadata": {
        "id": "dhsf2t8OFXdM"
      },
      "source": [
        "model = keras.Sequential([\n",
        "    keras.layers.Dense(64, activation=\"relu\", kernel_initializer=\"he_normal\"),\n",
        "    keras.layers.Dense(32, activation=\"relu\", kernel_initializer=\"he_normal\"),\n",
        "    keras.layers.Dense(3, activation=\"softmax\")\n",
        "])"
      ],
      "execution_count": null,
      "outputs": []
    },
    {
      "cell_type": "code",
      "metadata": {
        "id": "qpLn6XIIlJ7s"
      },
      "source": [
        "model.compile(\n",
        "    optimizer=\"adam\", \n",
        "    loss=keras.losses.SparseCategoricalCrossentropy(name=\"loss\"), \n",
        "    metrics=[\"acc\"]\n",
        ")"
      ],
      "execution_count": null,
      "outputs": []
    },
    {
      "cell_type": "code",
      "metadata": {
        "id": "ODE01PxPlTcD"
      },
      "source": [
        "history = model.fit(\n",
        "    X_train, y_train,\n",
        "    epochs=12, validation_data=(X_val, y_val),\n",
        "    batch_size=32\n",
        ")"
      ],
      "execution_count": null,
      "outputs": []
    },
    {
      "cell_type": "code",
      "metadata": {
        "id": "bqpmPzBnoEFk"
      },
      "source": [
        "history = pd.DataFrame(history.history)"
      ],
      "execution_count": null,
      "outputs": []
    },
    {
      "cell_type": "code",
      "metadata": {
        "id": "6mQJoUCkoIZA"
      },
      "source": [
        "plt.figure(figsize=(12, 6))\n",
        "\n",
        "plt.plot(history[\"acc\"], \"*\", label=\"Train Acc\", linestyle=\"solid\")\n",
        "plt.plot(history[\"loss\"], \"s\", label=\"Train Loss\", linestyle=\"dotted\")\n",
        "plt.plot(history[\"val_loss\"], \"o\", label=\"Val Loss\", linestyle=\"dashed\")\n",
        "plt.plot(history[\"val_acc\"], \"v\", label=\"Val Acc\", linestyle=\"dashdot\")\n",
        "plt.title(\"Curvas de Aprendizaje\")\n",
        "plt.xlabel(\"Epochs\")\n",
        "plt.legend(loc=\"best\")\n",
        "plt.grid(linestyle=\"--\")\n",
        "plt.show()"
      ],
      "execution_count": null,
      "outputs": []
    },
    {
      "cell_type": "code",
      "metadata": {
        "id": "363aNmx0u-n1"
      },
      "source": [
        "del model"
      ],
      "execution_count": null,
      "outputs": []
    },
    {
      "cell_type": "markdown",
      "metadata": {
        "id": "UQJpBZR8oycP"
      },
      "source": [
        "* Modelado (Keras, Perceptrón Multicapa).\n",
        "* Otro Dataset.\n",
        "* Random Search Tuneo de Hiperparámetros. Función de Activación y Número de Epochs, número de neuronas por capas, 2 capas."
      ]
    },
    {
      "cell_type": "code",
      "metadata": {
        "id": "Jlt1TuOzds93"
      },
      "source": [
        "def build_model(activation=\"relu\", units=32):\n",
        "    model = keras.Sequential([\n",
        "        keras.layers.Dense(\n",
        "            units * 2, activation=activation, \n",
        "            kernel_initializer=\"he_normal\"\n",
        "        ),\n",
        "        keras.layers.Dense(\n",
        "            units, activation=activation, \n",
        "            kernel_initializer=\"he_normal\"\n",
        "        ),\n",
        "        keras.layers.Dense(3, activation=\"softmax\")\n",
        "    ])\n",
        "\n",
        "    loss = keras.losses.SparseCategoricalCrossentropy()\n",
        "    model.compile(optimizer=\"adam\", loss=loss, metrics=[\"acc\"])\n",
        "    return model"
      ],
      "execution_count": null,
      "outputs": []
    },
    {
      "cell_type": "code",
      "metadata": {
        "id": "3bnQVqwpwe2c"
      },
      "source": [
        "model = KerasClassifier(build_fn=build_model, batch_size=32)"
      ],
      "execution_count": null,
      "outputs": []
    },
    {
      "cell_type": "code",
      "metadata": {
        "id": "dENWCJVyw76h"
      },
      "source": [
        "param_grid = {\n",
        "    \"epochs\": [5, 10],\n",
        "    \"activation\": [\"relu\", \"elu\"],\n",
        "    \"units\": [64, 128]\n",
        "}"
      ],
      "execution_count": null,
      "outputs": []
    },
    {
      "cell_type": "code",
      "metadata": {
        "id": "-I2_97WdxcHY"
      },
      "source": [
        "random_search = RandomizedSearchCV(model, param_grid)"
      ],
      "execution_count": null,
      "outputs": []
    },
    {
      "cell_type": "code",
      "metadata": {
        "id": "ghHztgqkxlyz"
      },
      "source": [
        "random_search.fit(X_train, y_train)"
      ],
      "execution_count": null,
      "outputs": []
    },
    {
      "cell_type": "code",
      "metadata": {
        "id": "3O1k8lK9xoVG"
      },
      "source": [
        "print(f\"Mejor puntaje: {random_search.best_score_} usando {random_search.best_params_}\")"
      ],
      "execution_count": null,
      "outputs": []
    },
    {
      "cell_type": "markdown",
      "metadata": {
        "id": "_NW3F81N80Xf"
      },
      "source": [
        "## **Validación**"
      ]
    },
    {
      "cell_type": "code",
      "metadata": {
        "id": "ToFNzI1qs8rb"
      },
      "source": [
        "del X_train, y_train\n",
        "del X_val, y_val"
      ],
      "execution_count": null,
      "outputs": []
    },
    {
      "cell_type": "code",
      "metadata": {
        "id": "mFFKRyevuYmj"
      },
      "source": [
        "model = random_search.best_estimator_"
      ],
      "execution_count": null,
      "outputs": []
    },
    {
      "cell_type": "code",
      "metadata": {
        "id": "lLgdDkUNrRO0"
      },
      "source": [
        "test_generator = DataGenerator(test_dirs, hog=True)"
      ],
      "execution_count": null,
      "outputs": []
    },
    {
      "cell_type": "code",
      "metadata": {
        "id": "SSx8adL5rSRO"
      },
      "source": [
        "X_test = []\n",
        "y_test = []\n",
        "\n",
        "for img, label in tqdm(test_generator):\n",
        "    X_test.append(img)\n",
        "    y_test.append(label)\n",
        "\n",
        "X_test = np.array(X_test)\n",
        "y_test = np.array(y_test)"
      ],
      "execution_count": null,
      "outputs": []
    },
    {
      "cell_type": "code",
      "metadata": {
        "id": "MBXRI8j7r06x"
      },
      "source": [
        "y_pred = model.predict(X_test)"
      ],
      "execution_count": null,
      "outputs": []
    },
    {
      "cell_type": "code",
      "metadata": {
        "id": "D3dFVo-LucRY"
      },
      "source": [
        "conf_matrix = confusion_matrix(y_test, y_pred)"
      ],
      "execution_count": null,
      "outputs": []
    },
    {
      "cell_type": "code",
      "metadata": {
        "id": "Btu0tvdguduQ"
      },
      "source": [
        "plt.matshow(conf_matrix, cmap=\"gray\")\n",
        "plt.show()"
      ],
      "execution_count": null,
      "outputs": []
    },
    {
      "cell_type": "code",
      "metadata": {
        "id": "38zDuLl0UZfm"
      },
      "source": [
        "norm_conf_mat = conf_matrix / conf_matrix.sum(axis=1, keepdims=True)\n",
        "np.fill_diagonal(norm_conf_mat, 0)"
      ],
      "execution_count": null,
      "outputs": []
    },
    {
      "cell_type": "code",
      "metadata": {
        "id": "n-aR3RTHUbQ6"
      },
      "source": [
        "labels = [\"ModerateDemented\",\"NonDemented\", \"VeryMildDemented\"]\n",
        "plot_confusion_matrix(model,X_test,y_test,display_labels=le.classes_,values_format='d')"
      ],
      "execution_count": null,
      "outputs": []
    },
    {
      "cell_type": "code",
      "metadata": {
        "id": "kp_3My2BvtnH"
      },
      "source": [
        "precision_score(y_test, y_pred, average=\"weighted\")"
      ],
      "execution_count": null,
      "outputs": []
    },
    {
      "cell_type": "code",
      "metadata": {
        "id": "3IsSGMGmv0bK"
      },
      "source": [
        "recall_score(y_test, y_pred, average=\"weighted\")"
      ],
      "execution_count": null,
      "outputs": []
    },
    {
      "cell_type": "code",
      "metadata": {
        "id": "X-g9kn5qUiOv"
      },
      "source": [
        "accuracy_score(y_test, y_pred)"
      ],
      "execution_count": null,
      "outputs": []
    },
    {
      "cell_type": "code",
      "metadata": {
        "id": "o1tz3q4-v9_Q"
      },
      "source": [
        "print(classification_report(y_test, y_pred))"
      ],
      "execution_count": null,
      "outputs": []
    },
    {
      "cell_type": "markdown",
      "metadata": {
        "id": "0cLb3LdVzBJg"
      },
      "source": [
        "## **Segundo Problema**\n",
        "- Dentro del mismo hospital, en el área de pneumología quieren clasificar los pacientes con Pneumonia de aquellos pacientes sanos a través de imágenes por rayos-x. Su labor como ingeniero, es construir un modelo basado en el perceptrón multicapa que se encargue de la clasificación binaria de los pacientes. En primera instancia, debe descargar las imágenes del siguiente [enlace](https://www.kaggle.com/paultimothymooney/chest-xray-pneumonia) y reajustar el tamaño de las imágenes utilizando la librería [OpenCV](https://www.tutorialkart.com/opencv/python/opencv-python-resize-image/), se recomienda utilizar el método de interpolación linear para no perder muchos pixeles en el reajuste. Dado que el dataset se encuentra en Kaggle, se recomienda seguir el siguiente [tutorial](https://www.kaggle.com/general/74235) para integrar Kaggle con Colab directamente. Luego, implementar el mismo procesamiento para las imágenes, cualquier otro procesamiento que quiera ser aplicado (morfología, extracción, representación, etc...) deberá ser justificado su objetivo y sus resultados. Finalmente, modelar con un perceptrón multicapa de 3 capas ocultas y ejecutar un RandomizedSearch variando la función de optimización."
      ]
    },
    {
      "cell_type": "code",
      "metadata": {
        "id": "-RqVFIJ_wIPe"
      },
      "source": [
        ""
      ],
      "execution_count": null,
      "outputs": []
    }
  ]
}