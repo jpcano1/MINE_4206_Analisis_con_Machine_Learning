{
 "cells": [
  {
   "cell_type": "markdown",
   "metadata": {},
   "source": [
    "![image](https://docs.google.com/uc?export=download&id=1Nh6vjig-ADM1RMbaHrj_GItD3O1ZW4Vr)\n",
    "# Análisis con Machine Learning - MINE4206"
   ]
  },
  {
   "cell_type": "markdown",
   "metadata": {},
   "source": [
    "# **Laboratorio Final - Despliegue de Modelos**\n",
    "## **Objetivos**\n",
    "- Aprender a usar Flask como alternativa de despliegue sencilla\n",
    "- Aprender a utilizar AWS SageMaker y MLFlow como alternativa de despliegue avanzada."
   ]
  },
  {
   "cell_type": "markdown",
   "metadata": {},
   "source": [
    "## **Importando las librerías requeridas para el laboratorio**\n",
    "- En esta parte del taller se asume que el usuario consta con las llaves de configuración de AWS y la creación del bucket de S3\n",
    "- Antes de iniciar el desarrollo, vamos a subir el directorio de ejecución de modelos con el comando `aws s3 sync ./mlruns/ s3://${BUCKET_NAME}`\n",
    "- Luego, vamos a crear el contenedor en el repositorio de ECR con el comando `mlflow sagemaker build-and-push-container`"
   ]
  },
  {
   "cell_type": "code",
   "execution_count": 1,
   "metadata": {},
   "outputs": [],
   "source": [
    "import boto3\n",
    "\n",
    "import mlflow.sagemaker as mfs\n",
    "\n",
    "from dotenv import load_dotenv, find_dotenv\n",
    "import os\n",
    "import json\n",
    "\n",
    "import numpy as np\n",
    "import pandas as pd\n",
    "\n",
    "from tqdm.auto import tqdm\n",
    "\n",
    "from sklearn.metrics import (classification_report, accuracy_score)"
   ]
  },
  {
   "cell_type": "code",
   "execution_count": 2,
   "metadata": {},
   "outputs": [
    {
     "data": {
      "text/plain": [
       "True"
      ]
     },
     "execution_count": 2,
     "metadata": {},
     "output_type": "execute_result"
    }
   ],
   "source": [
    "load_dotenv(find_dotenv())"
   ]
  },
  {
   "cell_type": "markdown",
   "metadata": {},
   "source": [
    "## **Configuración de variables de entorno**\n",
    "\n",
    "- Para esta parte vamos a necesitar configurar un conjunto de variables necesarias para ejecutar y desplegar nuestro modelo sobre AWS, entre ellas:\n",
    "    - El nombre de la app, que va a ser configurado por nosotros\n",
    "    - El rol de ejecución de ARN. Este se obtiene desde AWS AMI\n",
    "    - La url de la imagen en ECR para crear el contenedor\n",
    "    - La región del bucket\n",
    "    - El run id del modelo creado por MLFlow\n",
    "    - El nombre del modelo que creamos en MLFlow"
   ]
  },
  {
   "cell_type": "code",
   "execution_count": 3,
   "metadata": {},
   "outputs": [],
   "source": [
    "app_name = os.getenv(\"APP_NAME\")\n",
    "execution_role_arn = os.getenv(\"EXECUTION_ROLE_ARN\")\n",
    "image_ecr_url = os.getenv(\"IMAGE_ECR_URL\")\n",
    "region = os.getenv(\"REGION\")\n",
    "\n",
    "s3_bucket_name = os.getenv(\"S3_BUCKET_NAME\")\n",
    "run_id = os.getenv(\"RUN_ID\")\n",
    "\n",
    "model_name = \"Decision Tree Model\"\n",
    "\n",
    "experiment_id = \"1\""
   ]
  },
  {
   "cell_type": "code",
   "execution_count": 4,
   "metadata": {},
   "outputs": [],
   "source": [
    "model_uri = \"s3://{}/{}/{}/artifacts/{}/\".format(\n",
    "    s3_bucket_name, experiment_id, run_id, model_name\n",
    ")"
   ]
  },
  {
   "cell_type": "code",
   "execution_count": 5,
   "metadata": {},
   "outputs": [
    {
     "data": {
      "text/plain": [
       "'s3://mlflow-sagemaker/1/aab67419c5bf477488352d5a976e0664/artifacts/Decision Tree Model/'"
      ]
     },
     "execution_count": 5,
     "metadata": {},
     "output_type": "execute_result"
    }
   ],
   "source": [
    "model_uri"
   ]
  },
  {
   "cell_type": "markdown",
   "metadata": {},
   "source": [
    "## **Despliegue y validación**\n",
    "- Aquí hacemos uso de las variables que definimos en las celdas de arriba para desplegar a nuestra aplicación de AWS SageMaker\n",
    "- Aclaración: El proceso tarda un poco."
   ]
  },
  {
   "cell_type": "code",
   "execution_count": 6,
   "metadata": {},
   "outputs": [
    {
     "name": "stderr",
     "output_type": "stream",
     "text": [
      "2021/05/25 20:50:17 INFO mlflow.sagemaker: Using the python_function flavor for deployment!\n",
      "2021/05/25 20:50:17 INFO mlflow.sagemaker: No model data bucket specified, using the default bucket\n",
      "2021/05/25 20:50:18 INFO mlflow.sagemaker: Default bucket `mlflow-sagemaker-us-east-2-962145169713` already exists. Skipping creation.\n",
      "2021/05/25 20:50:20 INFO mlflow.sagemaker: tag response: {'ResponseMetadata': {'RequestId': 'WVJFRX4J7TV8HZ1Y', 'HostId': 'YFz0F7Kv8LGKt5bPEDsd3T7RIeAxdfgm+xO0GNaPhWlmonfRwfbCTvHrlG/80SWFfN7QYI8OytY=', 'HTTPStatusCode': 200, 'HTTPHeaders': {'x-amz-id-2': 'YFz0F7Kv8LGKt5bPEDsd3T7RIeAxdfgm+xO0GNaPhWlmonfRwfbCTvHrlG/80SWFfN7QYI8OytY=', 'x-amz-request-id': 'WVJFRX4J7TV8HZ1Y', 'date': 'Tue, 25 May 2021 20:50:21 GMT', 'server': 'AmazonS3', 'content-length': '0'}, 'RetryAttempts': 0}}\n",
      "2021/05/25 20:50:20 INFO mlflow.sagemaker: Creating new endpoint with name: mlops-sagemaker ...\n",
      "2021/05/25 20:50:20 INFO mlflow.sagemaker: Created model with arn: arn:aws:sagemaker:us-east-2:962145169713:model/mlops-sagemaker-model-abn-eqssrqw6kkvsgwy2myq\n",
      "2021/05/25 20:50:20 INFO mlflow.sagemaker: Created endpoint configuration with arn: arn:aws:sagemaker:us-east-2:962145169713:endpoint-config/mlops-sagemaker-config-vtyabchy3rwiiwzm91lz4bq\n",
      "2021/05/25 20:50:20 INFO mlflow.sagemaker: Created endpoint with arn: arn:aws:sagemaker:us-east-2:962145169713:endpoint/mlops-sagemaker\n",
      "2021/05/25 20:50:20 INFO mlflow.sagemaker: Waiting for the deployment operation to complete...\n",
      "2021/05/25 20:50:21 INFO mlflow.sagemaker: Waiting for endpoint to reach the \"InService\" state. Current endpoint status: \"Creating\"\n",
      "2021/05/25 20:50:41 INFO mlflow.sagemaker: Waiting for endpoint to reach the \"InService\" state. Current endpoint status: \"Creating\"\n",
      "2021/05/25 20:51:02 INFO mlflow.sagemaker: Waiting for endpoint to reach the \"InService\" state. Current endpoint status: \"Creating\"\n",
      "2021/05/25 20:51:22 INFO mlflow.sagemaker: Waiting for endpoint to reach the \"InService\" state. Current endpoint status: \"Creating\"\n",
      "2021/05/25 20:51:43 INFO mlflow.sagemaker: Waiting for endpoint to reach the \"InService\" state. Current endpoint status: \"Creating\"\n",
      "2021/05/25 20:52:04 INFO mlflow.sagemaker: Waiting for endpoint to reach the \"InService\" state. Current endpoint status: \"Creating\"\n",
      "2021/05/25 20:52:24 INFO mlflow.sagemaker: Waiting for endpoint to reach the \"InService\" state. Current endpoint status: \"Creating\"\n",
      "2021/05/25 20:52:45 INFO mlflow.sagemaker: Waiting for endpoint to reach the \"InService\" state. Current endpoint status: \"Creating\"\n",
      "2021/05/25 20:53:05 INFO mlflow.sagemaker: Waiting for endpoint to reach the \"InService\" state. Current endpoint status: \"Creating\"\n",
      "2021/05/25 20:53:26 INFO mlflow.sagemaker: Waiting for endpoint to reach the \"InService\" state. Current endpoint status: \"Creating\"\n",
      "2021/05/25 20:53:46 INFO mlflow.sagemaker: Waiting for endpoint to reach the \"InService\" state. Current endpoint status: \"Creating\"\n",
      "2021/05/25 20:54:07 INFO mlflow.sagemaker: Waiting for endpoint to reach the \"InService\" state. Current endpoint status: \"Creating\"\n",
      "2021/05/25 20:54:28 INFO mlflow.sagemaker: Waiting for endpoint to reach the \"InService\" state. Current endpoint status: \"Creating\"\n",
      "2021/05/25 20:54:49 INFO mlflow.sagemaker: Waiting for endpoint to reach the \"InService\" state. Current endpoint status: \"Creating\"\n",
      "2021/05/25 20:55:09 INFO mlflow.sagemaker: Waiting for endpoint to reach the \"InService\" state. Current endpoint status: \"Creating\"\n",
      "2021/05/25 20:55:30 INFO mlflow.sagemaker: Waiting for endpoint to reach the \"InService\" state. Current endpoint status: \"Creating\"\n",
      "2021/05/25 20:55:50 INFO mlflow.sagemaker: Waiting for endpoint to reach the \"InService\" state. Current endpoint status: \"Creating\"\n",
      "2021/05/25 20:56:11 INFO mlflow.sagemaker: Waiting for endpoint to reach the \"InService\" state. Current endpoint status: \"Creating\"\n",
      "2021/05/25 20:56:32 INFO mlflow.sagemaker: Waiting for endpoint to reach the \"InService\" state. Current endpoint status: \"Creating\"\n",
      "2021/05/25 20:56:37 INFO mlflow.sagemaker: The deployment operation completed successfully with message: \"The SageMaker endpoint was created successfully.\"\n"
     ]
    }
   ],
   "source": [
    "mfs.deploy(\n",
    "    app_name=app_name,\n",
    "    model_uri=model_uri,\n",
    "    execution_role_arn=execution_role_arn,\n",
    "    region_name=region,\n",
    "    image_url=image_ecr_url,\n",
    "    mode=mfs.DEPLOYMENT_MODE_CREATE\n",
    ")"
   ]
  },
  {
   "cell_type": "markdown",
   "metadata": {},
   "source": [
    "- En esta parte nos encargamos de validar los datos de nuestro modelo al enviar al endpoint creado en el anterior punto.\n",
    "- Cuando llamamos a la función `invoke_endpoint`, vamos a necesitar una serie de parámetros:\n",
    "    - EndpointName: El nombre de la aplicación que desplegamos\n",
    "    - Body: los datos que queremos predecir\n",
    "    - ContentType: El MIME Type de los datos que vamos a enviar. **Mucho cuidado, no se pueden enviar datos en bruto, en este ejemplo mandamos datos con formato JSON-Split generado por pandas**"
   ]
  },
  {
   "cell_type": "code",
   "execution_count": 7,
   "metadata": {},
   "outputs": [],
   "source": [
    "def query(input_json):\n",
    "    client = boto3.session.Session().client(\n",
    "        \"sagemaker-runtime\", region\n",
    "    )\n",
    "    \n",
    "    response = client.invoke_endpoint(\n",
    "        EndpointName=app_name,\n",
    "        Body=input_json,\n",
    "        ContentType=\"application/json; format=pandas-split\"\n",
    "    )\n",
    "    \n",
    "    y_pred = response[\"Body\"].read().decode(\"ascii\")\n",
    "    y_pred = json.loads(y_pred)\n",
    "    return y_pred"
   ]
  },
  {
   "cell_type": "code",
   "execution_count": 8,
   "metadata": {},
   "outputs": [],
   "source": [
    "X_test = pd.read_csv(\"data/X_test.csv.gz\")\n",
    "y_test = pd.read_csv(\"data/y_test.csv.gz\")"
   ]
  },
  {
   "cell_type": "code",
   "execution_count": 9,
   "metadata": {},
   "outputs": [
    {
     "data": {
      "text/plain": [
       "(1115, 8672)"
      ]
     },
     "execution_count": 9,
     "metadata": {},
     "output_type": "execute_result"
    }
   ],
   "source": [
    "X_test.shape"
   ]
  },
  {
   "cell_type": "code",
   "execution_count": 10,
   "metadata": {},
   "outputs": [
    {
     "data": {
      "text/html": [
       "<div>\n",
       "<style scoped>\n",
       "    .dataframe tbody tr th:only-of-type {\n",
       "        vertical-align: middle;\n",
       "    }\n",
       "\n",
       "    .dataframe tbody tr th {\n",
       "        vertical-align: top;\n",
       "    }\n",
       "\n",
       "    .dataframe thead th {\n",
       "        text-align: right;\n",
       "    }\n",
       "</style>\n",
       "<table border=\"1\" class=\"dataframe\">\n",
       "  <thead>\n",
       "    <tr style=\"text-align: right;\">\n",
       "      <th></th>\n",
       "      <th>00</th>\n",
       "      <th>000</th>\n",
       "      <th>000pes</th>\n",
       "      <th>008704050406</th>\n",
       "      <th>0089</th>\n",
       "      <th>0121</th>\n",
       "      <th>01223585236</th>\n",
       "      <th>01223585334</th>\n",
       "      <th>0125698789</th>\n",
       "      <th>02</th>\n",
       "      <th>...</th>\n",
       "      <th>ó_</th>\n",
       "      <th>û_</th>\n",
       "      <th>û_thanks</th>\n",
       "      <th>ûªm</th>\n",
       "      <th>ûªt</th>\n",
       "      <th>ûªve</th>\n",
       "      <th>ûï</th>\n",
       "      <th>ûïharry</th>\n",
       "      <th>ûò</th>\n",
       "      <th>ûówell</th>\n",
       "    </tr>\n",
       "  </thead>\n",
       "  <tbody>\n",
       "    <tr>\n",
       "      <th>0</th>\n",
       "      <td>0.0</td>\n",
       "      <td>0.0</td>\n",
       "      <td>0.0</td>\n",
       "      <td>0.0</td>\n",
       "      <td>0.0</td>\n",
       "      <td>0.0</td>\n",
       "      <td>0.0</td>\n",
       "      <td>0.0</td>\n",
       "      <td>0.0</td>\n",
       "      <td>0.0</td>\n",
       "      <td>...</td>\n",
       "      <td>0.0</td>\n",
       "      <td>0.0</td>\n",
       "      <td>0.0</td>\n",
       "      <td>0.0</td>\n",
       "      <td>0.0</td>\n",
       "      <td>0.0</td>\n",
       "      <td>0.0</td>\n",
       "      <td>0.0</td>\n",
       "      <td>0.0</td>\n",
       "      <td>0.0</td>\n",
       "    </tr>\n",
       "    <tr>\n",
       "      <th>1</th>\n",
       "      <td>0.0</td>\n",
       "      <td>0.0</td>\n",
       "      <td>0.0</td>\n",
       "      <td>0.0</td>\n",
       "      <td>0.0</td>\n",
       "      <td>0.0</td>\n",
       "      <td>0.0</td>\n",
       "      <td>0.0</td>\n",
       "      <td>0.0</td>\n",
       "      <td>0.0</td>\n",
       "      <td>...</td>\n",
       "      <td>0.0</td>\n",
       "      <td>0.0</td>\n",
       "      <td>0.0</td>\n",
       "      <td>0.0</td>\n",
       "      <td>0.0</td>\n",
       "      <td>0.0</td>\n",
       "      <td>0.0</td>\n",
       "      <td>0.0</td>\n",
       "      <td>0.0</td>\n",
       "      <td>0.0</td>\n",
       "    </tr>\n",
       "    <tr>\n",
       "      <th>2</th>\n",
       "      <td>0.0</td>\n",
       "      <td>0.0</td>\n",
       "      <td>0.0</td>\n",
       "      <td>0.0</td>\n",
       "      <td>0.0</td>\n",
       "      <td>0.0</td>\n",
       "      <td>0.0</td>\n",
       "      <td>0.0</td>\n",
       "      <td>0.0</td>\n",
       "      <td>0.0</td>\n",
       "      <td>...</td>\n",
       "      <td>0.0</td>\n",
       "      <td>0.0</td>\n",
       "      <td>0.0</td>\n",
       "      <td>0.0</td>\n",
       "      <td>0.0</td>\n",
       "      <td>0.0</td>\n",
       "      <td>0.0</td>\n",
       "      <td>0.0</td>\n",
       "      <td>0.0</td>\n",
       "      <td>0.0</td>\n",
       "    </tr>\n",
       "    <tr>\n",
       "      <th>3</th>\n",
       "      <td>0.0</td>\n",
       "      <td>0.0</td>\n",
       "      <td>0.0</td>\n",
       "      <td>0.0</td>\n",
       "      <td>0.0</td>\n",
       "      <td>0.0</td>\n",
       "      <td>0.0</td>\n",
       "      <td>0.0</td>\n",
       "      <td>0.0</td>\n",
       "      <td>0.0</td>\n",
       "      <td>...</td>\n",
       "      <td>0.0</td>\n",
       "      <td>0.0</td>\n",
       "      <td>0.0</td>\n",
       "      <td>0.0</td>\n",
       "      <td>0.0</td>\n",
       "      <td>0.0</td>\n",
       "      <td>0.0</td>\n",
       "      <td>0.0</td>\n",
       "      <td>0.0</td>\n",
       "      <td>0.0</td>\n",
       "    </tr>\n",
       "    <tr>\n",
       "      <th>4</th>\n",
       "      <td>0.0</td>\n",
       "      <td>0.0</td>\n",
       "      <td>0.0</td>\n",
       "      <td>0.0</td>\n",
       "      <td>0.0</td>\n",
       "      <td>0.0</td>\n",
       "      <td>0.0</td>\n",
       "      <td>0.0</td>\n",
       "      <td>0.0</td>\n",
       "      <td>0.0</td>\n",
       "      <td>...</td>\n",
       "      <td>0.0</td>\n",
       "      <td>0.0</td>\n",
       "      <td>0.0</td>\n",
       "      <td>0.0</td>\n",
       "      <td>0.0</td>\n",
       "      <td>0.0</td>\n",
       "      <td>0.0</td>\n",
       "      <td>0.0</td>\n",
       "      <td>0.0</td>\n",
       "      <td>0.0</td>\n",
       "    </tr>\n",
       "  </tbody>\n",
       "</table>\n",
       "<p>5 rows × 8672 columns</p>\n",
       "</div>"
      ],
      "text/plain": [
       "    00  000  000pes  008704050406  0089  0121  01223585236  01223585334  \\\n",
       "0  0.0  0.0     0.0           0.0   0.0   0.0          0.0          0.0   \n",
       "1  0.0  0.0     0.0           0.0   0.0   0.0          0.0          0.0   \n",
       "2  0.0  0.0     0.0           0.0   0.0   0.0          0.0          0.0   \n",
       "3  0.0  0.0     0.0           0.0   0.0   0.0          0.0          0.0   \n",
       "4  0.0  0.0     0.0           0.0   0.0   0.0          0.0          0.0   \n",
       "\n",
       "   0125698789   02  ...   ó_   û_  û_thanks  ûªm  ûªt  ûªve   ûï  ûïharry  \\\n",
       "0         0.0  0.0  ...  0.0  0.0       0.0  0.0  0.0   0.0  0.0      0.0   \n",
       "1         0.0  0.0  ...  0.0  0.0       0.0  0.0  0.0   0.0  0.0      0.0   \n",
       "2         0.0  0.0  ...  0.0  0.0       0.0  0.0  0.0   0.0  0.0      0.0   \n",
       "3         0.0  0.0  ...  0.0  0.0       0.0  0.0  0.0   0.0  0.0      0.0   \n",
       "4         0.0  0.0  ...  0.0  0.0       0.0  0.0  0.0   0.0  0.0      0.0   \n",
       "\n",
       "    ûò  ûówell  \n",
       "0  0.0     0.0  \n",
       "1  0.0     0.0  \n",
       "2  0.0     0.0  \n",
       "3  0.0     0.0  \n",
       "4  0.0     0.0  \n",
       "\n",
       "[5 rows x 8672 columns]"
      ]
     },
     "execution_count": 10,
     "metadata": {},
     "output_type": "execute_result"
    }
   ],
   "source": [
    "X_test.head()"
   ]
  },
  {
   "cell_type": "code",
   "execution_count": 11,
   "metadata": {},
   "outputs": [
    {
     "data": {
      "application/vnd.jupyter.widget-view+json": {
       "model_id": "750a2644dd324509bf099801a4f07d6e",
       "version_major": 2,
       "version_minor": 0
      },
      "text/plain": [
       "  0%|          | 0/34 [00:00<?, ?it/s]"
      ]
     },
     "metadata": {},
     "output_type": "display_data"
    }
   ],
   "source": [
    "batch_size = 32\n",
    "predictions = []\n",
    "\n",
    "for f in tqdm(range(34)):\n",
    "    sample = X_test.iloc[f * batch_size: (f + 1) * batch_size].to_json(orient=\"split\")\n",
    "    \n",
    "    y_pred = query(sample)\n",
    "    predictions.extend(y_pred)"
   ]
  },
  {
   "cell_type": "code",
   "execution_count": 12,
   "metadata": {},
   "outputs": [
    {
     "data": {
      "text/plain": [
       "1088"
      ]
     },
     "execution_count": 12,
     "metadata": {},
     "output_type": "execute_result"
    }
   ],
   "source": [
    "len(predictions)"
   ]
  },
  {
   "cell_type": "code",
   "execution_count": 13,
   "metadata": {},
   "outputs": [
    {
     "name": "stdout",
     "output_type": "stream",
     "text": [
      "              precision    recall  f1-score   support\n",
      "\n",
      "           0       0.97      0.98      0.98       945\n",
      "           1       0.86      0.80      0.83       143\n",
      "\n",
      "    accuracy                           0.96      1088\n",
      "   macro avg       0.91      0.89      0.90      1088\n",
      "weighted avg       0.96      0.96      0.96      1088\n",
      "\n"
     ]
    }
   ],
   "source": [
    "print(classification_report(y_test[:len(predictions)], predictions))"
   ]
  },
  {
   "cell_type": "code",
   "execution_count": 14,
   "metadata": {},
   "outputs": [
    {
     "data": {
      "text/plain": [
       "0.9568014705882353"
      ]
     },
     "execution_count": 14,
     "metadata": {},
     "output_type": "execute_result"
    }
   ],
   "source": [
    "accuracy_score(y_test[:len(predictions)], predictions)"
   ]
  },
  {
   "cell_type": "markdown",
   "metadata": {},
   "source": [
    "## **Actualización del Modelo**\n",
    "- Aquí vamos a necesitar nuevos atributos, sin embargo, hay parámetros que vamos a cambiar."
   ]
  },
  {
   "cell_type": "code",
   "execution_count": 42,
   "metadata": {},
   "outputs": [],
   "source": [
    "new_run_id = os.getenv(\"NEW_RUN_ID\")\n",
    "new_model_name = \"Log Reg Model\"\n",
    "\n",
    "new_model_uri = \"s3://{}/{}/{}/artifacts/{}/\".format(\n",
    "    s3_bucket_name, experiment_id, new_run_id, new_model_name\n",
    ")"
   ]
  },
  {
   "cell_type": "code",
   "execution_count": 44,
   "metadata": {},
   "outputs": [
    {
     "name": "stderr",
     "output_type": "stream",
     "text": [
      "2021/05/12 22:05:26 INFO mlflow.sagemaker: Using the python_function flavor for deployment!\n",
      "2021/05/12 22:05:27 INFO mlflow.sagemaker: No model data bucket specified, using the default bucket\n",
      "2021/05/12 22:05:28 INFO mlflow.sagemaker: Default bucket `mlflow-sagemaker-us-east-1-962145169713` already exists. Skipping creation.\n",
      "2021/05/12 22:05:29 INFO mlflow.sagemaker: tag response: {'ResponseMetadata': {'RequestId': 'TCE5RJ3951X72B6N', 'HostId': 'Tq35IebrFln+pg7nKsGNP3Aorx68j79r+elCP2IfkviuRXSWw6VCcZTt5Cr0+qBO8ctE4wWxREk=', 'HTTPStatusCode': 200, 'HTTPHeaders': {'x-amz-id-2': 'Tq35IebrFln+pg7nKsGNP3Aorx68j79r+elCP2IfkviuRXSWw6VCcZTt5Cr0+qBO8ctE4wWxREk=', 'x-amz-request-id': 'TCE5RJ3951X72B6N', 'date': 'Thu, 13 May 2021 03:05:30 GMT', 'content-length': '0', 'server': 'AmazonS3'}, 'RetryAttempts': 0}}\n",
      "2021/05/12 22:05:29 INFO mlflow.sagemaker: Found active endpoint with arn: arn:aws:sagemaker:us-east-1:962145169713:endpoint/mlops-sagemaker. Updating...\n",
      "2021/05/12 22:05:30 INFO mlflow.sagemaker: Created new model with arn: arn:aws:sagemaker:us-east-1:962145169713:model/mlops-sagemaker-model-vxxns3owtfwe2qxqx7fhja\n",
      "2021/05/12 22:05:30 INFO mlflow.sagemaker: Created new endpoint configuration with arn: arn:aws:sagemaker:us-east-1:962145169713:endpoint-config/mlops-sagemaker-config-abofu7ewjqxu6jclspkipfa\n",
      "2021/05/12 22:05:31 INFO mlflow.sagemaker: Updated endpoint with new configuration!\n",
      "2021/05/12 22:05:31 INFO mlflow.sagemaker: Waiting for the deployment operation to complete...\n",
      "2021/05/12 22:05:31 INFO mlflow.sagemaker: The operation is still in progress.\n",
      "2021/05/12 22:05:51 INFO mlflow.sagemaker: The update operation is still in progress. Current endpoint status: \"Updating\"\n",
      "2021/05/12 22:06:12 INFO mlflow.sagemaker: The update operation is still in progress. Current endpoint status: \"Updating\"\n",
      "2021/05/12 22:06:33 INFO mlflow.sagemaker: The update operation is still in progress. Current endpoint status: \"Updating\"\n",
      "2021/05/12 22:06:53 INFO mlflow.sagemaker: The update operation is still in progress. Current endpoint status: \"Updating\"\n",
      "2021/05/12 22:07:14 INFO mlflow.sagemaker: The update operation is still in progress. Current endpoint status: \"Updating\"\n",
      "2021/05/12 22:07:35 INFO mlflow.sagemaker: The update operation is still in progress. Current endpoint status: \"Updating\"\n",
      "2021/05/12 22:07:55 INFO mlflow.sagemaker: The update operation is still in progress. Current endpoint status: \"Updating\"\n",
      "2021/05/12 22:08:16 INFO mlflow.sagemaker: The update operation is still in progress. Current endpoint status: \"Updating\"\n",
      "2021/05/12 22:08:37 INFO mlflow.sagemaker: The update operation is still in progress. Current endpoint status: \"Updating\"\n",
      "2021/05/12 22:08:57 INFO mlflow.sagemaker: The update operation is still in progress. Current endpoint status: \"Updating\"\n",
      "2021/05/12 22:09:18 INFO mlflow.sagemaker: The update operation is still in progress. Current endpoint status: \"Updating\"\n",
      "2021/05/12 22:09:39 INFO mlflow.sagemaker: The update operation is still in progress. Current endpoint status: \"Updating\"\n",
      "2021/05/12 22:10:00 INFO mlflow.sagemaker: The update operation is still in progress. Current endpoint status: \"Updating\"\n",
      "2021/05/12 22:10:20 INFO mlflow.sagemaker: The update operation is still in progress. Current endpoint status: \"Updating\"\n",
      "2021/05/12 22:10:41 INFO mlflow.sagemaker: The update operation is still in progress. Current endpoint status: \"Updating\"\n",
      "2021/05/12 22:11:02 INFO mlflow.sagemaker: The update operation is still in progress. Current endpoint status: \"Updating\"\n",
      "2021/05/12 22:11:22 INFO mlflow.sagemaker: The update operation is still in progress. Current endpoint status: \"Updating\"\n",
      "2021/05/12 22:11:43 INFO mlflow.sagemaker: The update operation is still in progress. Current endpoint status: \"Updating\"\n",
      "2021/05/12 22:11:53 INFO mlflow.sagemaker: The deployment operation completed successfully with message: \"The SageMaker endpoint was updated successfully.\"\n",
      "2021/05/12 22:11:53 INFO mlflow.sagemaker: Cleaning up unused resources...\n",
      "2021/05/12 22:11:54 INFO mlflow.sagemaker: Deleted model with arn: arn:aws:sagemaker:us-east-1:962145169713:model/mlops-sagemaker-model-jufbs7ekqqid-ooyctninq\n",
      "2021/05/12 22:11:54 INFO mlflow.sagemaker: Deleted endpoint configuration with arn: arn:aws:sagemaker:us-east-1:962145169713:endpoint-config/mlops-sagemaker-config-vtg72ayirqe6ieq722tjva\n"
     ]
    }
   ],
   "source": [
    "mfs.deploy(\n",
    "    app_name=app_name,\n",
    "    model_uri=new_model_uri,\n",
    "    execution_role_arn=execution_role_arn,\n",
    "    region_name=region,\n",
    "    image_url=image_ecr_url,\n",
    "    mode=mfs.DEPLOYMENT_MODE_REPLACE\n",
    ")"
   ]
  },
  {
   "cell_type": "code",
   "execution_count": 45,
   "metadata": {},
   "outputs": [
    {
     "data": {
      "application/vnd.jupyter.widget-view+json": {
       "model_id": "4ba598058ed4468d90fa240776f0df65",
       "version_major": 2,
       "version_minor": 0
      },
      "text/plain": [
       "  0%|          | 0/34 [00:00<?, ?it/s]"
      ]
     },
     "metadata": {},
     "output_type": "display_data"
    }
   ],
   "source": [
    "batch_size = 32\n",
    "predictions = []\n",
    "\n",
    "for f in tqdm(range(34)):\n",
    "    sample = X_test.iloc[f * batch_size: (f + 1) * batch_size].to_json(orient=\"split\")\n",
    "    \n",
    "    y_pred = query(sample)\n",
    "    predictions.extend(y_pred)"
   ]
  },
  {
   "cell_type": "code",
   "execution_count": 46,
   "metadata": {},
   "outputs": [
    {
     "name": "stdout",
     "output_type": "stream",
     "text": [
      "              precision    recall  f1-score   support\n",
      "\n",
      "           0       0.96      1.00      0.98       945\n",
      "           1       0.97      0.74      0.84       143\n",
      "\n",
      "    accuracy                           0.96      1088\n",
      "   macro avg       0.97      0.87      0.91      1088\n",
      "weighted avg       0.96      0.96      0.96      1088\n",
      "\n"
     ]
    }
   ],
   "source": [
    "print(classification_report(y_test[:len(predictions)], predictions))"
   ]
  },
  {
   "cell_type": "code",
   "execution_count": 47,
   "metadata": {},
   "outputs": [
    {
     "data": {
      "text/plain": [
       "0.9632352941176471"
      ]
     },
     "execution_count": 47,
     "metadata": {},
     "output_type": "execute_result"
    }
   ],
   "source": [
    "accuracy_score(y_test[:len(predictions)], predictions)"
   ]
  },
  {
   "cell_type": "markdown",
   "metadata": {},
   "source": [
    "## **Eliminación del Modelo**"
   ]
  },
  {
   "cell_type": "code",
   "execution_count": 49,
   "metadata": {},
   "outputs": [
    {
     "name": "stderr",
     "output_type": "stream",
     "text": [
      "2021/05/12 22:19:23 INFO mlflow.sagemaker: Deleted endpoint with arn: arn:aws:sagemaker:us-east-1:962145169713:endpoint/mlops-sagemaker\n",
      "2021/05/12 22:19:23 INFO mlflow.sagemaker: Waiting for the delete operation to complete...\n",
      "2021/05/12 22:19:24 INFO mlflow.sagemaker: Deletion is still in progress. Current endpoint status: Deleting\n",
      "2021/05/12 22:19:29 INFO mlflow.sagemaker: The deletion operation completed successfully with message: \"The SageMaker endpoint was deleted successfully.\"\n",
      "2021/05/12 22:19:29 INFO mlflow.sagemaker: Cleaning up unused resources...\n",
      "2021/05/12 22:19:29 INFO mlflow.sagemaker: Deleted associated endpoint configuration with arn: arn:aws:sagemaker:us-east-1:962145169713:endpoint-config/mlops-sagemaker-config-abofu7ewjqxu6jclspkipfa\n",
      "2021/05/12 22:19:30 INFO mlflow.sagemaker: Deleted associated model with arn: arn:aws:sagemaker:us-east-1:962145169713:model/mlops-sagemaker-model-vxxns3owtfwe2qxqx7fhja\n"
     ]
    }
   ],
   "source": [
    "mfs.delete(app_name=app_name, region_name=region)"
   ]
  },
  {
   "cell_type": "code",
   "execution_count": null,
   "metadata": {},
   "outputs": [],
   "source": []
  }
 ],
 "metadata": {
  "kernelspec": {
   "display_name": "Python 3",
   "language": "python",
   "name": "python3"
  },
  "language_info": {
   "codemirror_mode": {
    "name": "ipython",
    "version": 3
   },
   "file_extension": ".py",
   "mimetype": "text/x-python",
   "name": "python",
   "nbconvert_exporter": "python",
   "pygments_lexer": "ipython3",
   "version": "3.8.10"
  }
 },
 "nbformat": 4,
 "nbformat_minor": 4
}
